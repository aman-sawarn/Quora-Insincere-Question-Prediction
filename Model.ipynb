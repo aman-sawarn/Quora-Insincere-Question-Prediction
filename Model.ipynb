{
 "cells": [
  {
   "cell_type": "code",
   "execution_count": 1,
   "metadata": {},
   "outputs": [
    {
     "name": "stderr",
     "output_type": "stream",
     "text": [
      "C:\\Users\\Cyborg\\Anaconda3\\lib\\site-packages\\gensim\\utils.py:860: UserWarning: detected Windows; aliasing chunkize to chunkize_serial\n",
      "  warnings.warn(\"detected Windows; aliasing chunkize to chunkize_serial\")\n"
     ]
    }
   ],
   "source": [
    "import numpy as np\n",
    "import pandas as pd\n",
    "import matplotlib.pyplot as plt\n",
    "import nltk\n",
    "from nltk.stem.porter import PorterStemmer\n",
    "\n",
    "import re\n",
    "# Tutorial about Python regular expressions: https://pymotw.com/2/re/\n",
    "import string\n",
    "\n",
    "from nltk.stem.wordnet import WordNetLemmatizer\n",
    "\n",
    "from gensim.models import Word2Vec\n",
    "from gensim.models import KeyedVectors\n",
    "import pickle\n",
    "from sklearn.metrics import roc_curve, auc\n",
    "from nltk.corpus import stopwords\n",
    "import seaborn as sns\n",
    "import matplotlib.pyplot as plt\n",
    "%matplotlib inline"
   ]
  },
  {
   "cell_type": "code",
   "execution_count": 2,
   "metadata": {},
   "outputs": [],
   "source": [
    "df=pd.read_csv(r\"E:\\quora insincere  data\\train.csv\")"
   ]
  },
  {
   "cell_type": "code",
   "execution_count": 3,
   "metadata": {},
   "outputs": [
    {
     "data": {
      "text/plain": [
       "Index(['qid', 'question_text', 'target'], dtype='object')"
      ]
     },
     "execution_count": 3,
     "metadata": {},
     "output_type": "execute_result"
    }
   ],
   "source": [
    "df.columns"
   ]
  },
  {
   "cell_type": "code",
   "execution_count": 4,
   "metadata": {},
   "outputs": [],
   "source": [
    "df[\"num_words\"] = df[\"question_text\"].apply(lambda x: len(str(x).split()))\n",
    "df[\"num_words\"] = df[\"question_text\"].apply(lambda x: len(str(x).split()))\n",
    "df[\"num_unique_words\"] = df[\"question_text\"].apply(lambda x: len(set(str(x).split())))\n",
    "eng_stopwords = set(stopwords.words(\"english\"))\n",
    "df[\"num_stopwords\"] = df[\"question_text\"].apply(lambda x: len([w for w in str(x).lower().split() if\n",
    "w in eng_stopwords]))"
   ]
  },
  {
   "cell_type": "code",
   "execution_count": 5,
   "metadata": {},
   "outputs": [],
   "source": [
    "import re\n",
    "\n",
    "def decontracted(phrase):\n",
    "    # specific\n",
    "    phrase = re.sub(r\"won't\", \"will not\", phrase)\n",
    "    phrase = re.sub(r\"can\\'t\", \"can not\", phrase)\n",
    "\n",
    "    # general\n",
    "    phrase = re.sub(r\"n\\'t\", \" not\", phrase)\n",
    "    phrase = re.sub(r\"\\'re\", \" are\", phrase)\n",
    "    phrase = re.sub(r\"\\'s\", \" is\", phrase)\n",
    "    phrase = re.sub(r\"\\'d\", \" would\", phrase)\n",
    "    phrase = re.sub(r\"\\'ll\", \" will\", phrase)\n",
    "    phrase = re.sub(r\"\\'t\", \" not\", phrase)\n",
    "    phrase = re.sub(r\"\\'ve\", \" have\", phrase)\n",
    "    phrase = re.sub(r\"\\'m\", \" am\", phrase)\n",
    "    return phrase"
   ]
  },
  {
   "cell_type": "code",
   "execution_count": 6,
   "metadata": {},
   "outputs": [],
   "source": [
    "stopwords= set(['br', 'the', 'i', 'me', 'my', 'myself', 'we', 'our', 'ours', 'ourselves', 'you', \"you're\", \"you've\",\\\n",
    "            \"you'll\", \"you'd\", 'your', 'yours', 'yourself', 'yourselves', 'he', 'him', 'his', 'himself', \\\n",
    "            'she', \"she's\", 'her', 'hers', 'herself', 'it', \"it's\", 'its', 'itself', 'they', 'them', 'their',\\\n",
    "            'theirs', 'themselves', 'what', 'which', 'who', 'whom', 'this', 'that', \"that'll\", 'these', 'those', \\\n",
    "            'am', 'is', 'are', 'was', 'were', 'be', 'been', 'being', 'have', 'has', 'had', 'having', 'do', 'does', \\\n",
    "            'did', 'doing', 'a', 'an', 'the', 'and', 'but', 'if', 'or', 'because', 'as', 'until', 'while', 'of', \\\n",
    "            'at', 'by', 'for', 'with', 'about', 'against', 'between', 'into', 'through', 'during', 'before', 'after',\\\n",
    "            'above', 'below', 'to', 'from', 'up', 'down', 'in', 'out', 'on', 'off', 'over', 'under', 'again', 'further',\\\n",
    "            'then', 'once', 'here', 'there', 'when', 'where', 'why', 'how', 'all', 'any', 'both', 'each', 'few', 'more',\\\n",
    "            'most', 'other', 'some', 'such', 'only', 'own', 'same', 'so', 'than', 'too', 'very', \\\n",
    "            's', 't', 'can', 'will', 'just', 'don', \"don't\", 'should', \"should've\", 'now', 'd', 'll', 'm', 'o', 're', \\\n",
    "            've', 'y', 'ain', 'aren', \"aren't\", 'couldn', \"couldn't\", 'didn', \"didn't\", 'doesn', \"doesn't\", 'hadn',\\\n",
    "            \"hadn't\", 'hasn', \"hasn't\", 'haven', \"haven't\", 'isn', \"isn't\", 'ma', 'mightn', \"mightn't\", 'mustn',\\\n",
    "            \"mustn't\", 'needn', \"needn't\", 'shan', \"shan't\", 'shouldn', \"shouldn't\", 'wasn', \"wasn't\", 'weren', \"weren't\", \\\n",
    "            'won', \"won't\", 'wouldn', \"wouldn't\"])"
   ]
  },
  {
   "cell_type": "code",
   "execution_count": 7,
   "metadata": {},
   "outputs": [
    {
     "name": "stderr",
     "output_type": "stream",
     "text": [
      "100%|██████████████████████████████████████████████████████████████████████| 1306122/1306122 [06:18<00:00, 3451.97it/s]\n"
     ]
    }
   ],
   "source": [
    "from tqdm import tqdm\n",
    "from bs4 import BeautifulSoup\n",
    "preprocessed_reviews = []\n",
    "# tqdm is for printing the status bar\n",
    "for sentance in tqdm(df['question_text'].values):\n",
    "    sentance = re.sub(r\"http\\S+\", \"\", sentance)\n",
    "    sentance = BeautifulSoup(sentance, 'lxml').get_text()\n",
    "    sentance = decontracted(sentance)\n",
    "    sentance = re.sub(\"\\S*\\d\\S*\", \"\", sentance).strip()\n",
    "    sentance = re.sub('[^A-Za-z]+', ' ', sentance)\n",
    "    # https://gist.github.com/sebleier/554280\n",
    "    sentance = ' '.join(e.lower() for e in sentance.split() if e.lower() not in stopwords)\n",
    "    preprocessed_reviews.append(sentance.strip())"
   ]
  },
  {
   "cell_type": "code",
   "execution_count": 8,
   "metadata": {},
   "outputs": [],
   "source": [
    "import warnings\n",
    "warnings.filterwarnings(\"ignore\")"
   ]
  },
  {
   "cell_type": "code",
   "execution_count": 9,
   "metadata": {},
   "outputs": [],
   "source": [
    "from sklearn.model_selection import train_test_split\n",
    "from sklearn.model_selection import cross_val_score\n",
    "\n",
    "from sklearn.model_selection import GridSearchCV, RandomizedSearchCV\n",
    "\n",
    "from sklearn.feature_extraction.text import TfidfVectorizer\n",
    "from sklearn import tree\n",
    "\n",
    "from sklearn.feature_extraction.text import CountVectorizer\n",
    "from sklearn.metrics import confusion_matrix\n",
    "from sklearn.model_selection import train_test_split\n",
    "from sklearn.model_selection import cross_val_score\n",
    "from sklearn.metrics import roc_auc_score\n",
    "from sklearn.model_selection import GridSearchCV\n",
    "from sklearn.metrics import roc_auc_score\n",
    "from sklearn.linear_model import LogisticRegression\n",
    "\n",
    "from sklearn.metrics import roc_curve, auc"
   ]
  },
  {
   "cell_type": "markdown",
   "metadata": {},
   "source": [
    "### BOW"
   ]
  },
  {
   "cell_type": "code",
   "execution_count": 11,
   "metadata": {},
   "outputs": [],
   "source": []
  },
  {
   "cell_type": "markdown",
   "metadata": {},
   "source": [
    "### Logistic Regression"
   ]
  },
  {
   "cell_type": "code",
   "execution_count": 11,
   "metadata": {},
   "outputs": [
    {
     "name": "stdout",
     "output_type": "stream",
     "text": [
      "best estimator:  LogisticRegression(C=0.75, class_weight=None, dual=False, fit_intercept=True,\n",
      "          intercept_scaling=1, max_iter=100, multi_class='ovr', n_jobs=1,\n",
      "          penalty='l1', random_state=None, solver='liblinear', tol=0.0001,\n",
      "          verbose=0, warm_start=False)\n",
      "Train Score:  0.958247303020083\n",
      "Test Score:  0.94582438455984\n"
     ]
    }
   ],
   "source": [
    "parametersx=[{'C': [10**-4, 10**-2,0.75, 0.81, 1, 5, 10, 20, 50, 10**2, 10**4]}]\n",
    "clf = GridSearchCV(LogisticRegression(penalty='l1'), parametersx, cv=4, scoring='roc_auc', )\n",
    "clf.fit(X_train_bow, y_train)\n",
    "cv_error=clf.cv_results_['mean_test_score']\n",
    "train_error=clf.cv_results_['mean_train_score']\n",
    "pred=clf.predict(X_train_bow)\n",
    "score=roc_auc_score(y_train, pred)\n",
    "c_value=clf.best_params_['C']\n",
    "# depth=clf.best_params_['max_depth']\n",
    "print(\"best estimator: \", clf.best_estimator_)\n",
    "print(\"Train Score: \", clf.score(X_train_bow, y_train))\n",
    "print(\"Test Score: \", clf.score(X_test_bow, y_test))"
   ]
  },
  {
   "cell_type": "code",
   "execution_count": 12,
   "metadata": {},
   "outputs": [
    {
     "data": {
      "image/png": "[encoded data removed]",
      "text/plain": [
       "<Figure size 432x288 with 1 Axes>"
      ]
     },
     "metadata": {},
     "output_type": "display_data"
    }
   ],
   "source": [
    "plt.plot(cv_error, label='CV')\n",
    "plt.plot(train_error, label='train')\n",
    "plt.legend()\n",
    "plt.show()"
   ]
  },
  {
   "cell_type": "code",
   "execution_count": 13,
   "metadata": {},
   "outputs": [
    {
     "name": "stdout",
     "output_type": "stream",
     "text": [
      "The best score for AUC is equal to:  0.945825551698082\n",
      "The best score for AUC is equal to:  0.9582469732099319\n",
      "ROC SCORE ON BEST HYPER-PARAMETERS:  0.7167828352115645\n"
     ]
    },
    {
     "data": {
      "image/png": "[encoded data removed]",
      "text/plain": [
       "<Figure size 432x288 with 1 Axes>"
      ]
     },
     "metadata": {},
     "output_type": "display_data"
    }
   ],
   "source": [
    "lr = LogisticRegression(C=c_value, penalty='l1')\n",
    "lr.fit(X_train_bow, y_train)\n",
    "pred1=lr.predict_proba(X_test_bow)[:,1]\n",
    "pred2=lr.predict_proba(X_train_bow)[:,1]\n",
    "\n",
    "\n",
    "print('The best score for AUC is equal to: ', roc_auc_score(y_test, pred1))\n",
    "print('The best score for AUC is equal to: ', roc_auc_score(y_train, pred2))\n",
    "\n",
    "score1=roc_auc_score(y_test, pred1)\n",
    "score2=roc_auc_score(y_train, pred2)\n",
    "cm = confusion_matrix(y_test, pred1.round())\n",
    "\n",
    "\n",
    "print('ROC SCORE ON BEST HYPER-PARAMETERS: ', score)\n",
    "fpr1, tpr1, threshold = roc_curve(y_test, pred1)\n",
    "fpr2, tpr2, threshold = roc_curve(y_train, pred2)\n",
    "roc_auc1 = auc(fpr1, tpr1)\n",
    "roc_auc2 = auc(fpr2, tpr2)\n",
    "import matplotlib.pyplot as plt\n",
    "plt.title('Receiver Operating Characteristic')\n",
    "plt.plot(fpr1, tpr1, 'b', label='TEST-AUC = %0.2f' % score1)\n",
    "plt.plot(fpr2, tpr2, 'g', label = 'TRAIN-AUC = %0.2f' % score2)\n",
    "plt.legend(loc = 'lower right')\n",
    "plt.plot([0, 1], [0, 1],'r--')\n",
    "plt.xlim([0, 1])\n",
    "plt.ylim([0, 1])\n",
    "plt.ylabel('True Positive Rate')\n",
    "plt.xlabel('False Positive Rate')\n",
    "plt.legend()\n",
    "plt.show()"
   ]
  },
  {
   "cell_type": "code",
   "execution_count": 14,
   "metadata": {},
   "outputs": [
    {
     "data": {
      "image/png": "[encoded data removed]",
      "text/plain": [
       "<Figure size 432x288 with 2 Axes>"
      ]
     },
     "metadata": {},
     "output_type": "display_data"
    }
   ],
   "source": [
    "# plot_confusion_matrix(cm)  \n",
    "sns.heatmap(cm, annot=True, fmt=\"d\")\n",
    "plt.show()\n"
   ]
  },
  {
   "cell_type": "code",
   "execution_count": 15,
   "metadata": {},
   "outputs": [
    {
     "name": "stdout",
     "output_type": "stream",
     "text": [
      "(1, 148584)\n",
      "148584\n"
     ]
    }
   ],
   "source": [
    "clf = LogisticRegression(C=0.1, penalty='l2');\n",
    "clf.fit(X_train_bow, y_train);\n",
    "w = clf.coef_\n",
    "print(w.shape)\n",
    "print(np.count_nonzero(w))"
   ]
  },
  {
   "cell_type": "code",
   "execution_count": 16,
   "metadata": {},
   "outputs": [
    {
     "name": "stdout",
     "output_type": "stream",
     "text": [
      "(1, 148584)\n",
      "2102\n"
     ]
    }
   ],
   "source": [
    "clf = LogisticRegression(C=0.1, penalty='l1');\n",
    "clf.fit(X_train_bow, y_train);\n",
    "w=clf.coef_\n",
    "print(w.shape)\n",
    "print(np.count_nonzero(w))"
   ]
  },
  {
   "cell_type": "code",
   "execution_count": 17,
   "metadata": {},
   "outputs": [
    {
     "name": "stdout",
     "output_type": "stream",
     "text": [
      "2102\n"
     ]
    },
    {
     "data": {
      "text/plain": [
       "scipy.sparse.csr.csr_matrix"
      ]
     },
     "execution_count": 17,
     "metadata": {},
     "output_type": "execute_result"
    }
   ],
   "source": [
    "## Pertubation Test\n",
    "# from scipy.sparse import csr_matrix\n",
    "print(np.count_nonzero(w))\n",
    "e=0.1\n",
    "# X_train_bow_dash=X_train_bow.data+=0.001\n",
    "# X_train_bow_pert=csr_matrix(X_test_bow, dtype=np.float64)\n",
    "# X_train_bow_dash=X_test_bow_pert[np.nonzero(X_train_bow_pert)+0.01]\n",
    "# # X_train_bow_dash=X_test_bow.todense()\n",
    "type(X_train_bow)"
   ]
  },
  {
   "cell_type": "code",
   "execution_count": 18,
   "metadata": {},
   "outputs": [
    {
     "data": {
      "text/plain": [
       "((914285, 148584), (914285,))"
      ]
     },
     "execution_count": 18,
     "metadata": {},
     "output_type": "execute_result"
    }
   ],
   "source": [
    "X_train_bow.shape, y_train.shape"
   ]
  },
  {
   "cell_type": "code",
   "execution_count": 19,
   "metadata": {},
   "outputs": [
    {
     "name": "stdout",
     "output_type": "stream",
     "text": [
      "0.9578030920336656\n",
      "0.9529268547891088\n"
     ]
    }
   ],
   "source": [
    "clf=LogisticRegression(penalty='l2')\n",
    "clf.fit(X_train_bow, y_train)\n",
    "pred=clf.predict_proba(X_test_bow)[:, 1]\n",
    "w_dash=clf.coef_\n",
    "print(clf.score(X_train_bow, y_train))\n",
    "print(clf.score(X_test_bow, y_test))"
   ]
  },
  {
   "cell_type": "code",
   "execution_count": 20,
   "metadata": {},
   "outputs": [
    {
     "name": "stdout",
     "output_type": "stream",
     "text": [
      "-2.078679612836076 -0.05343898823247875 -0.015364568968319166 -0.0036152193579692205\n",
      "--------------------------------------------------\n",
      "-1.2667807759907106 0.0 0.0 0.0\n"
     ]
    }
   ],
   "source": [
    "w_dash_0=np.percentile(w_dash,0)\n",
    "w_dash_25=np.percentile(w_dash,25)\n",
    "w_dash_50=np.percentile(w_dash,50)\n",
    "w_dash_75=np.percentile(w_dash,75)\n",
    "print(w_dash_0, w_dash_25, w_dash_50, w_dash_75)\n",
    "print('-'*50)\n",
    "w_0=np.percentile(w,0)\n",
    "w_25=np.percentile(w,25)\n",
    "w_50=np.percentile(w,50)\n",
    "w_75=np.percentile(w,75)\n",
    "print(w_0, w_25, w_50, w_75)"
   ]
  },
  {
   "cell_type": "code",
   "execution_count": 21,
   "metadata": {},
   "outputs": [
    {
     "name": "stdout",
     "output_type": "stream",
     "text": [
      "percentage change in 0th percentile :  -64.09150282616216\n",
      "percentage change in 25th percentile :  inf\n",
      "percentage change in 50th percentile :  inf\n",
      "percentage change in 75th percentile :  inf\n"
     ]
    }
   ],
   "source": [
    "print('percentage change in 0th percentile : ', (abs(w_0-w_dash_0)/w_0)*100)\n",
    "print('percentage change in 25th percentile : ', (abs(w_25-w_dash_25)/w_25)*100)\n",
    "print('percentage change in 50th percentile : ', (abs(w_50-w_dash_50)/w_50)*100)\n",
    "print('percentage change in 75th percentile : ', (abs(w_75-w_dash_75)/w_75)*100)"
   ]
  },
  {
   "cell_type": "code",
   "execution_count": 23,
   "metadata": {},
   "outputs": [
    {
     "data": {
      "text/plain": [
       "(148584, 1)"
      ]
     },
     "execution_count": 23,
     "metadata": {},
     "output_type": "execute_result"
    }
   ],
   "source": [
    "bow_features=bow.get_feature_names()\n",
    "x = pd.DataFrame(w, columns=bow_features).T\n",
    "x.shape"
   ]
  },
  {
   "cell_type": "code",
   "execution_count": 24,
   "metadata": {},
   "outputs": [
    {
     "name": "stdout",
     "output_type": "stream",
     "text": [
      "top 10 features for  class 1: \n",
      " castrate       5.012732\n",
      "castrated      4.862452\n",
      "castration     4.662542\n",
      "fuck           3.064295\n",
      "idiots         3.020892\n",
      "homosexuals    2.939720\n",
      "incest         2.906974\n",
      "liberals       2.892300\n",
      "feminists      2.862977\n",
      "blacks         2.837439\n",
      "Name: 0, dtype: float64\n"
     ]
    }
   ],
   "source": [
    "print('top 10 features for  class 1: \\n', x[0].sort_values(ascending=False)[0:10])"
   ]
  },
  {
   "cell_type": "code",
   "execution_count": 25,
   "metadata": {},
   "outputs": [
    {
     "name": "stdout",
     "output_type": "stream",
     "text": [
      "top 10 features for  class 0: \n",
      " tips          -1.266781\n",
      "differences   -1.162894\n",
      "difference    -1.130377\n",
      "engineering   -1.062050\n",
      "study         -0.953157\n",
      "best          -0.951191\n",
      "marks         -0.918369\n",
      "data          -0.913346\n",
      "differ        -0.894785\n",
      "affect        -0.892310\n",
      "Name: 0, dtype: float64\n"
     ]
    }
   ],
   "source": [
    "print('top 10 features for  class 0: \\n', x[0].sort_values(ascending=True)[:10])"
   ]
  },
  {
   "cell_type": "markdown",
   "metadata": {},
   "source": [
    "### Decision Trees"
   ]
  },
  {
   "cell_type": "code",
   "execution_count": 26,
   "metadata": {},
   "outputs": [],
   "source": [
    "\n",
    "\n",
    "depth=[2,3,4,5,6,7,8,9,10]\n",
    "sample_split=[2,3,4,5,6,7,8,9]\n",
    "parameters=dict(max_depth=depth,min_samples_split=sample_split)\n",
    "clf=RandomizedSearchCV(tree.DecisionTreeClassifier(),parameters, scoring='roc_auc', refit=True, cv=3)\n",
    "\n",
    "clf.fit(X_train_bow, y_train)\n",
    "cv_error=clf.cv_results_['mean_test_score']\n",
    "train_error=clf.cv_results_['mean_train_score']\n",
    "pred=clf.predict(X_train_bow)\n",
    "score=roc_auc_score(y_train, pred)\n",
    "split=clf.best_params_['min_samples_split']\n",
    "depth=clf.best_params_['max_depth']"
   ]
  },
  {
   "cell_type": "code",
   "execution_count": 27,
   "metadata": {},
   "outputs": [
    {
     "data": {
      "image/png": "[encoded data removed]",
      "text/plain": [
       "<Figure size 432x288 with 1 Axes>"
      ]
     },
     "metadata": {},
     "output_type": "display_data"
    }
   ],
   "source": [
    "plt.plot(cv_error, label='CV')\n",
    "plt.plot(train_error, label='train')\n",
    "plt.legend()\n",
    "plt.show()"
   ]
  },
  {
   "cell_type": "code",
   "execution_count": null,
   "metadata": {},
   "outputs": [],
   "source": []
  },
  {
   "cell_type": "code",
   "execution_count": 33,
   "metadata": {},
   "outputs": [
    {
     "name": "stdout",
     "output_type": "stream",
     "text": [
      "Best value of max_depth:  9\n",
      "Best value of min_samples_split:  9\n",
      "ROC SCORE ON BEST HYPER-PARAMETERS:  0.5805666680667192\n"
     ]
    },
    {
     "data": {
      "image/png": "[encoded data removed]",
      "text/plain": [
       "<Figure size 842.4x595.44 with 1 Axes>"
      ]
     },
     "metadata": {},
     "output_type": "display_data"
    }
   ],
   "source": [
    "print('Best value of max_depth: ', depth)\n",
    "print('Best value of min_samples_split: ', split)\n",
    "model=tree.DecisionTreeClassifier(max_depth=4, min_samples_split=split)\n",
    "model.fit(X_train_bow, y_train)\n",
    "\n",
    "w=model.feature_importances_\n",
    "pred1=model.predict_proba(X_test_bow)[:,1]\n",
    "pred2=model.predict_proba(X_train_bow)[:,1]\n",
    "score1=roc_auc_score(y_test, pred1)\n",
    "score2=roc_auc_score(y_train, pred2)\n",
    "cm = confusion_matrix(y_test, pred1.round())\n",
    "\n",
    "\n",
    "print('ROC SCORE ON BEST HYPER-PARAMETERS: ', score)\n",
    "fpr1, tpr1, threshold = roc_curve(y_test, pred1)\n",
    "fpr2, tpr2, threshold = roc_curve(y_train, pred2)\n",
    "roc_auc1 = auc(fpr1, tpr1)\n",
    "roc_auc2 = auc(fpr2, tpr2)\n",
    "import matplotlib.pyplot as plt\n",
    "plt.title('Receiver Operating Characteristic')\n",
    "plt.plot(fpr1, tpr1, 'b', label='TEST-AUC = %0.2f' % score1)\n",
    "plt.plot(fpr2, tpr2, 'g', label = 'TRAIN-AUC = %0.2f' % score2)\n",
    "plt.legend(loc = 'lower right')\n",
    "plt.plot([0, 1], [0, 1],'r--')\n",
    "plt.xlim([0, 1])\n",
    "plt.ylim([0, 1])\n",
    "plt.ylabel('True Positive Rate')\n",
    "plt.xlabel('False Positive Rate')\n",
    "plt.legend()\n",
    "plt.show()"
   ]
  },
  {
   "cell_type": "code",
   "execution_count": 34,
   "metadata": {},
   "outputs": [
    {
     "data": {
      "image/png": "[encoded data removed]",
      "text/plain": [
       "<Figure size 842.4x595.44 with 2 Axes>"
      ]
     },
     "metadata": {},
     "output_type": "display_data"
    }
   ],
   "source": [
    "# plot_confusion_matrix(cm)  \n",
    "sns.heatmap(cm, annot=True, fmt=\"d\")\n",
    "plt.show()\n"
   ]
  },
  {
   "cell_type": "code",
   "execution_count": 35,
   "metadata": {},
   "outputs": [
    {
     "data": {
      "image/png": "[encoded data removed]",
      "text/plain": [
       "<Figure size 842.4x595.44 with 1 Axes>"
      ]
     },
     "metadata": {},
     "output_type": "display_data"
    }
   ],
   "source": [
    "# print('top 10 features for -ve class: \\n', df[1].sort_values(ascending=False)[:10])\n",
    "bow_features=bow.get_feature_names()\n",
    "d = dict(zip(bow_features, w))\n",
    "# total=len(d.values())\n",
    "# zeros=np.count_nonzero(w)\n",
    "# https://github.com/cyanamous/Amazon-Food-Reviews-Analysis-and-Modelling/blob/master/6%20Amazon%20Food%20Reviews%20-%20Decision%20Trees.ipynb\n",
    "# Sort feature importances in descending order\n",
    "indices = np.argsort(w)[::-1][:10]\n",
    "\n",
    "# Rearrange feature names so they match the sorted feature importances\n",
    "# names = uni_gram.get_feature_names()\n",
    "\n",
    "sns.set(rc={'figure.figsize':(11.7,8.27)})\n",
    "\n",
    "# Create plot\n",
    "plt.figure()\n",
    "\n",
    "# Create plot title\n",
    "plt.title(\"Feature Importance\")\n",
    "\n",
    "# Add bars\n",
    "plt.bar(range(10), w[indices])\n",
    "\n",
    "# Add feature names as x-axis labels\n",
    "names = np.array(bow_features)\n",
    "plt.xticks(range(10), names[indices], rotation=10)\n",
    "\n",
    "# Show plot\n",
    "plt.show()\n",
    "# uni_gram.get_feature_names()"
   ]
  },
  {
   "cell_type": "markdown",
   "metadata": {},
   "source": [
    "### TFIDF"
   ]
  },
  {
   "cell_type": "code",
   "execution_count": 12,
   "metadata": {},
   "outputs": [
    {
     "name": "stdout",
     "output_type": "stream",
     "text": [
      "(914285, 148584) (914285,)\n"
     ]
    }
   ],
   "source": [
    "# X=preprocessed_reviews[:]\n",
    "# y=['Score'][:]\n",
    "# X_train, X_test, y_train, y_test = train_test_split(X,y , test_size=0.30, random_state=42)\n",
    "# # bow = CountVectorizer()\n",
    "tfidf = TfidfVectorizer()\n",
    "X_train_tfidf=tfidf.fit_transform(X_train)\n",
    "X_test_tfidf=tfidf.transform(X_test)\n",
    "print(X_train_tfidf.shape, y_train.shape)\n"
   ]
  },
  {
   "cell_type": "markdown",
   "metadata": {},
   "source": [
    "## Logistic Regression"
   ]
  },
  {
   "cell_type": "code",
   "execution_count": 13,
   "metadata": {},
   "outputs": [
    {
     "name": "stdout",
     "output_type": "stream",
     "text": [
      "best estimator:  LogisticRegression(C=1, class_weight=None, dual=False, fit_intercept=True,\n",
      "          intercept_scaling=1, max_iter=100, multi_class='ovr', n_jobs=1,\n",
      "          penalty='l1', random_state=None, solver='liblinear', tol=0.0001,\n",
      "          verbose=0, warm_start=False)\n",
      "Train Score:  0.9547126308201432\n",
      "Test Score:  0.9472298502331761\n"
     ]
    },
    {
     "data": {
      "image/png": "[encoded data removed]",
      "text/plain": [
       "<Figure size 432x288 with 1 Axes>"
      ]
     },
     "metadata": {},
     "output_type": "display_data"
    }
   ],
   "source": [
    "parametersx=[{'C': [10**-4, 10**-2,0.75, 0.81, 1, 5, 10, 20, 50, 10**2, 10**4]}]\n",
    "clf = GridSearchCV(LogisticRegression(penalty='l1'), parametersx, cv=4, scoring='roc_auc')\n",
    "# clf.fit(X_train_bow, y_train)\n",
    "# cv_error=clf.cv_results_['mean_test_score']\n",
    "# train_error=clf.cv_results_['mean_train_score']\n",
    "# pred=clf.predict(X_train_bow)\n",
    "# score=roc_auc_score(y_train, pred)\n",
    "# c_value=clf.best_params_['C']\n",
    "# # depth=clf.best_params_['max_depth']\n",
    "# print(\"best estimator: \", clf.best_estimator_)\n",
    "# print(\"Train Score: \", clf.score(X_train_bow, y_train))\n",
    "# print(\"Test Score: \", clf.score(X_test_bow, y_test))\n",
    "\n",
    "# parametersx=[{'C': [10**-4, 10**-2,0.75, 0.81, 1, 5, 10, 20, 50, 10**2, 10**4]}]\n",
    "# clf = RandomizedSearchCV(LogisticRegression(penalty='l1'), parametersx, cv=4, scoring='roc_auc' )\n",
    "clf.fit(X_train_tfidf, y_train)\n",
    "cv_error=clf.cv_results_['mean_test_score']\n",
    "train_error=clf.cv_results_['mean_train_score']\n",
    "pred=clf.predict(X_train_tfidf)\n",
    "score=roc_auc_score(y_train, pred)\n",
    "c_value=clf.best_params_['C']\n",
    "# depth=clf.best_params_['max_depth']\n",
    "print(\"best estimator: \", clf.best_estimator_)\n",
    "print(\"Train Score: \", clf.score(X_train_tfidf, y_train))\n",
    "print(\"Test Score: \", clf.score(X_test_tfidf, y_test))\n",
    "\n",
    "plt.plot(cv_error, label='CV')\n",
    "plt.plot(train_error, label='train')\n",
    "plt.legend()\n",
    "plt.show()"
   ]
  },
  {
   "cell_type": "code",
   "execution_count": 14,
   "metadata": {},
   "outputs": [
    {
     "name": "stdout",
     "output_type": "stream",
     "text": [
      "The best score for AUC is equal to:  0.9447461206094498\n",
      "The best score for AUC is equal to:  0.9600867920188271\n",
      "ROC SCORE ON BEST HYPER-PARAMETERS:  0.704629055786981\n"
     ]
    },
    {
     "data": {
      "image/png": "[encoded data removed]",
      "text/plain": [
       "<Figure size 432x288 with 1 Axes>"
      ]
     },
     "metadata": {},
     "output_type": "display_data"
    }
   ],
   "source": [
    "lr = LogisticRegression(C=c_value, penalty='l1')\n",
    "lr.fit(X_train_bow, y_train)\n",
    "pred1=lr.predict_proba(X_test_bow)[:,1]\n",
    "pred2=lr.predict_proba(X_train_bow)[:,1]\n",
    "\n",
    "\n",
    "print('The best score for AUC is equal to: ', roc_auc_score(y_test, pred1))\n",
    "print('The best score for AUC is equal to: ', roc_auc_score(y_train, pred2))\n",
    "\n",
    "score1=roc_auc_score(y_test, pred1)\n",
    "score2=roc_auc_score(y_train, pred2)\n",
    "cm = confusion_matrix(y_test, pred1.round())\n",
    "\n",
    "\n",
    "print('ROC SCORE ON BEST HYPER-PARAMETERS: ', score)\n",
    "fpr1, tpr1, threshold = roc_curve(y_test, pred1)\n",
    "fpr2, tpr2, threshold = roc_curve(y_train, pred2)\n",
    "roc_auc1 = auc(fpr1, tpr1)\n",
    "roc_auc2 = auc(fpr2, tpr2)\n",
    "import matplotlib.pyplot as plt\n",
    "plt.title('Receiver Operating Characteristic')\n",
    "plt.plot(fpr1, tpr1, 'b', label='TEST-AUC = %0.2f' % score1)\n",
    "plt.plot(fpr2, tpr2, 'g', label = 'TRAIN-AUC = %0.2f' % score2)\n",
    "plt.legend(loc = 'lower right')\n",
    "plt.plot([0, 1], [0, 1],'r--')\n",
    "plt.xlim([0, 1])\n",
    "plt.ylim([0, 1])\n",
    "plt.ylabel('True Positive Rate')\n",
    "plt.xlabel('False Positive Rate')\n",
    "plt.legend()\n",
    "plt.show()\n"
   ]
  },
  {
   "cell_type": "code",
   "execution_count": 20,
   "metadata": {},
   "outputs": [],
   "source": [
    "w=lr.coef_\n",
    "tfidf_features=tfidf.get_feature_names()"
   ]
  },
  {
   "cell_type": "code",
   "execution_count": 15,
   "metadata": {},
   "outputs": [
    {
     "data": {
      "image/png": "[encoded data removed]",
      "text/plain": [
       "<Figure size 432x288 with 2 Axes>"
      ]
     },
     "metadata": {},
     "output_type": "display_data"
    }
   ],
   "source": [
    "# plot_confusion_matrix(cm)  \n",
    "sns.heatmap(cm, annot=True, fmt=\"d\")\n",
    "plt.show()"
   ]
  },
  {
   "cell_type": "code",
   "execution_count": 22,
   "metadata": {},
   "outputs": [
    {
     "name": "stdout",
     "output_type": "stream",
     "text": [
      "the shape of this df:  (148584, 1)\n",
      "--------------------------------------------------------------------------------\n",
      "top 10 features for  class 1: \n",
      " castrate      5.902251\n",
      "castration    5.775125\n",
      "auvela        5.555473\n",
      "scumbags      5.522431\n",
      "castrated     5.375153\n",
      "rejuvalex     5.243424\n",
      "twat          4.979462\n",
      "horlaxen      4.932896\n",
      "cusion        4.852989\n",
      "alabamian     4.829164\n",
      "Name: 0, dtype: float64\n",
      "--------------------------------------------------------------------------------\n",
      "top 10 features for  class 0: \n",
      " mocks       -4.682370\n",
      "bodily      -4.207780\n",
      "donot       -4.140826\n",
      "successes   -4.098183\n",
      "pollsters   -4.069564\n",
      "weaponry    -3.944976\n",
      "revolver    -3.879026\n",
      "adipose     -3.516568\n",
      "saif        -3.472976\n",
      "pcs         -3.396701\n",
      "Name: 0, dtype: float64\n"
     ]
    }
   ],
   "source": [
    "x = pd.DataFrame(w, columns=tfidf_features).T\n",
    "print(\"the shape of this df: \", x.shape)\n",
    "print('-'*80)\n",
    "print('top 10 features for  class 1: \\n', x[0].sort_values(ascending=False)[0:10])\n",
    "print('-'*80)\n",
    "print('top 10 features for  class 0: \\n', x[0].sort_values(ascending=True)[:10])"
   ]
  },
  {
   "cell_type": "markdown",
   "metadata": {},
   "source": [
    "### Decision Trees"
   ]
  },
  {
   "cell_type": "code",
   "execution_count": 23,
   "metadata": {},
   "outputs": [
    {
     "data": {
      "image/png": "[encoded data removed]",
      "text/plain": [
       "<Figure size 432x288 with 1 Axes>"
      ]
     },
     "metadata": {},
     "output_type": "display_data"
    }
   ],
   "source": [
    "depth=[2,3,4,5,6,7,8,9,10]\n",
    "sample_split=[2,3,4,5,6,7,8,9]\n",
    "parameters=dict(max_depth=depth,min_samples_split=sample_split)\n",
    "clf=RandomizedSearchCV(tree.DecisionTreeClassifier(),parameters, scoring='roc_auc', refit=True, cv=3)\n",
    "\n",
    "clf.fit(X_train_tfidf, y_train)\n",
    "cv_error=clf.cv_results_['mean_test_score']\n",
    "train_error=clf.cv_results_['mean_train_score']\n",
    "pred=clf.predict(X_train_tfidf)\n",
    "score=roc_auc_score(y_train, pred)\n",
    "split=clf.best_params_['min_samples_split']\n",
    "depth=clf.best_params_['max_depth']\n",
    "\n",
    "plt.plot(cv_error, label='CV')\n",
    "plt.plot(train_error, label='train')\n",
    "plt.legend()\n",
    "plt.show()"
   ]
  },
  {
   "cell_type": "code",
   "execution_count": 24,
   "metadata": {},
   "outputs": [
    {
     "name": "stdout",
     "output_type": "stream",
     "text": [
      "Best value of max_depth:  9\n",
      "Best value of min_samples_split:  9\n",
      "ROC SCORE ON BEST HYPER-PARAMETERS:  0.5808462465566813\n"
     ]
    },
    {
     "data": {
      "image/png": "[encoded data removed]",
      "text/plain": [
       "<Figure size 432x288 with 1 Axes>"
      ]
     },
     "metadata": {},
     "output_type": "display_data"
    }
   ],
   "source": [
    "print('Best value of max_depth: ', depth)\n",
    "print('Best value of min_samples_split: ', split)\n",
    "model=tree.DecisionTreeClassifier(max_depth=depth, min_samples_split=split)\n",
    "model.fit(X_train_tfidf, y_train)\n",
    "\n",
    "w=model.feature_importances_\n",
    "pred1=model.predict_proba(X_test_tfidf)[:,1]\n",
    "pred2=model.predict_proba(X_train_tfidf)[:,1]\n",
    "score1=roc_auc_score(y_test, pred1)\n",
    "score2=roc_auc_score(y_train, pred2)\n",
    "cm = confusion_matrix(y_test, pred1.round())\n",
    "\n",
    "\n",
    "print('ROC SCORE ON BEST HYPER-PARAMETERS: ', score)\n",
    "fpr1, tpr1, threshold = roc_curve(y_test, pred1)\n",
    "fpr2, tpr2, threshold = roc_curve(y_train, pred2)\n",
    "roc_auc1 = auc(fpr1, tpr1)\n",
    "roc_auc2 = auc(fpr2, tpr2)\n",
    "import matplotlib.pyplot as plt\n",
    "plt.title('Receiver Operating Characteristic')\n",
    "plt.plot(fpr1, tpr1, 'b', label='TEST-AUC = %0.2f' % score1)\n",
    "plt.plot(fpr2, tpr2, 'g', label = 'TRAIN-AUC = %0.2f' % score2)\n",
    "plt.legend(loc = 'lower right')\n",
    "plt.plot([0, 1], [0, 1],'r--')\n",
    "plt.xlim([0, 1])\n",
    "plt.ylim([0, 1])\n",
    "plt.ylabel('True Positive Rate')\n",
    "plt.xlabel('False Positive Rate')\n",
    "plt.legend()\n",
    "plt.show()"
   ]
  },
  {
   "cell_type": "code",
   "execution_count": 25,
   "metadata": {},
   "outputs": [
    {
     "data": {
      "image/png": "[encoded data removed]",
      "text/plain": [
       "<Figure size 432x288 with 2 Axes>"
      ]
     },
     "metadata": {},
     "output_type": "display_data"
    }
   ],
   "source": [
    "sns.heatmap(cm, annot=True, fmt=\"d\")\n",
    "plt.show()\n"
   ]
  },
  {
   "cell_type": "code",
   "execution_count": 26,
   "metadata": {},
   "outputs": [
    {
     "data": {
      "image/png": "[encoded data removed]",
      "text/plain": [
       "<Figure size 842.4x595.44 with 1 Axes>"
      ]
     },
     "metadata": {},
     "output_type": "display_data"
    }
   ],
   "source": [
    "tfidf_features=tfidf.get_feature_names()\n",
    "d = dict(zip(tfidf_features, w))\n",
    "# total=len(d.values())\n",
    "# zeros=np.count_nonzero(w)\n",
    "# https://github.com/cyanamous/Amazon-Food-Reviews-Analysis-and-Modelling/blob/master/6%20Amazon%20Food%20Reviews%20-%20Decision%20Trees.ipynb\n",
    "# Sort feature importances in descending order\n",
    "indices = np.argsort(w)[::-1][:10]\n",
    "\n",
    "# Rearrange feature names so they match the sorted feature importances\n",
    "# names = uni_gram.get_feature_names()\n",
    "\n",
    "sns.set(rc={'figure.figsize':(11.7,8.27)})\n",
    "\n",
    "# Create plot\n",
    "plt.figure()\n",
    "\n",
    "# Create plot title\n",
    "plt.title(\"Feature Importance\")\n",
    "\n",
    "# Add bars\n",
    "plt.bar(range(10), w[indices])\n",
    "\n",
    "# Add feature names as x-axis labels\n",
    "names = np.array(tfidf_features)\n",
    "plt.xticks(range(10), names[indices], rotation=10)\n",
    "\n",
    "# Show plot\n",
    "plt.show()\n",
    "# uni_gram.get_feature_names()"
   ]
  },
  {
   "cell_type": "markdown",
   "metadata": {},
   "source": [
    "### Word2Vec"
   ]
  },
  {
   "cell_type": "code",
   "execution_count": 10,
   "metadata": {},
   "outputs": [
    {
     "name": "stderr",
     "output_type": "stream",
     "text": [
      "100%|████████████████████████████████████████████████████████████████████████| 914285/914285 [04:46<00:00, 3187.56it/s]\n",
      "100%|████████████████████████████████████████████████████████████████████████| 391837/391837 [02:01<00:00, 3211.98it/s]\n"
     ]
    }
   ],
   "source": [
    "from gensim.models import Word2Vec\n",
    "import gensim\n",
    "\n",
    "\n",
    "list_sent=[]\n",
    "for sent in preprocessed_reviews:\n",
    "    list_sent.append(sent.split())\n",
    "X=preprocessed_reviews[:]\n",
    "y=df['target'][:]\n",
    "X_train, X_test, y_train, y_test = train_test_split(X,y , test_size=0.30, random_state=42)\n",
    "\n",
    "w2v_model=gensim.models.Word2Vec(X_train,min_count=5, size=50)\n",
    "w2v_words = list(w2v_model.wv.vocab)\n",
    "\n",
    "# Then vectorize your train model as\n",
    "sent_vectors_train = [];\n",
    "for sent in tqdm(X_train):\n",
    "    sent_vec = np.zeros(50)\n",
    "    cnt_words =0;\n",
    "    for word in sent:\n",
    "        if word in w2v_words:\n",
    "            vec = w2v_model.wv[word]\n",
    "            sent_vec += vec\n",
    "            cnt_words += 1\n",
    "    if cnt_words != 0:\n",
    "        sent_vec /= cnt_words\n",
    "    sent_vectors_train.append(sent_vec)\n",
    "\n",
    "    \n",
    "sent_vectors_test = [];\n",
    "for sent in tqdm(X_test):\n",
    "    sent_vec = np.zeros(50)\n",
    "    cnt_words =0;\n",
    "    for word in sent: #\n",
    "        if word in w2v_words:\n",
    "            vec = w2v_model.wv[word]\n",
    "            sent_vec += vec\n",
    "            cnt_words += 1\n",
    "    if cnt_words != 0:\n",
    "        sent_vec /= cnt_words\n",
    "    sent_vectors_test.append(sent_vec)"
   ]
  },
  {
   "cell_type": "markdown",
   "metadata": {},
   "source": [
    "### Logistic Regression"
   ]
  },
  {
   "cell_type": "code",
   "execution_count": null,
   "metadata": {},
   "outputs": [],
   "source": [
    "parametersx=[{'C': [10**-4, 10**-2,0.75, 0.81, 1, 5, 10, 20, 50, 10**2,10**3, 10**4]}]\n",
    "clf = GridSearchCV(LogisticRegression(penalty='l1', class_weight='balanced'), parametersx, cv=4, scoring='roc_auc')\n",
    "\n",
    "clf.fit(sent_vectors_train, y_train)\n",
    "cv_error=clf.cv_results_['mean_test_score']\n",
    "train_error=clf.cv_results_['mean_train_score']\n",
    "pred=clf.predict(sent_vectors_train)\n",
    "score=roc_auc_score(y_train, pred)\n",
    "c_value=clf.best_params_['C']\n",
    "# depth=clf.best_params_['max_depth']\n",
    "print(\"best estimator: \", clf.best_estimator_)\n",
    "print(\"Train Score: \", clf.score(sent_vectors_train, y_train))\n",
    "print(\"Test Score: \", clf.score(sent_vectors_test, y_test))\n",
    "\n",
    "plt.plot(cv_error, label='CV')\n",
    "plt.plot(train_error, label='train')\n",
    "plt.legend()\n",
    "plt.show()"
   ]
  },
  {
   "cell_type": "code",
   "execution_count": null,
   "metadata": {},
   "outputs": [],
   "source": [
    "lr_w2v = LogisticRegression(C=c_value, penalty='l1', class_weight='balanced')\n",
    "lr_w2v.fit(sent_vectors_train, y_train)\n",
    "pred1=lr_w2v.predict_proba(sent_vectors_test)[:,1]\n",
    "pred2=lr_w2v.predict_proba(sent_vectors_train)[:,1]\n",
    "\n",
    "\n",
    "print('The best score for AUC is equal to: ', roc_auc_score(y_test, pred1))\n",
    "print('The best score for AUC is equal to: ', roc_auc_score(y_train, pred2))\n",
    "\n",
    "score1=roc_auc_score(y_test, pred1)\n",
    "score2=roc_auc_score(y_train, pred2)\n",
    "cm = confusion_matrix(y_test, pred1.round())\n",
    "\n",
    "\n",
    "print('ROC SCORE ON BEST HYPER-PARAMETERS: ', score)\n",
    "fpr1, tpr1, threshold = roc_curve(y_test, pred1)\n",
    "fpr2, tpr2, threshold = roc_curve(y_train, pred2)\n",
    "roc_auc1 = auc(fpr1, tpr1)\n",
    "roc_auc2 = auc(fpr2, tpr2)\n",
    "import matplotlib.pyplot as plt\n",
    "plt.title('Receiver Operating Characteristic')\n",
    "plt.plot(fpr1, tpr1, 'b', label='TEST-AUC = %0.2f' % score1)\n",
    "plt.plot(fpr2, tpr2, 'g', label = 'TRAIN-AUC = %0.2f' % score2)\n",
    "plt.legend(loc = 'lower right')\n",
    "plt.plot([0, 1], [0, 1],'r--')\n",
    "plt.xlim([0, 1])\n",
    "plt.ylim([0, 1])\n",
    "plt.ylabel('True Positive Rate')\n",
    "plt.xlabel('False Positive Rate')\n",
    "plt.legend()\n",
    "plt.show()\n"
   ]
  },
  {
   "cell_type": "code",
   "execution_count": null,
   "metadata": {},
   "outputs": [],
   "source": [
    "sns.heatmap(cm, annot=True, fmt=\"d\")\n",
    "plt.show()\n"
   ]
  },
  {
   "cell_type": "code",
   "execution_count": null,
   "metadata": {},
   "outputs": [],
   "source": [
    "sent_vectors_train[0]"
   ]
  },
  {
   "cell_type": "markdown",
   "metadata": {},
   "source": [
    "### DT"
   ]
  },
  {
   "cell_type": "code",
   "execution_count": null,
   "metadata": {},
   "outputs": [],
   "source": [
    "depth=[2,3,4,5,6,7,8,9,10]\n",
    "sample_split=[2,3,4,5,6,7,8,9]\n",
    "parameters=dict(max_depth=depth,min_samples_split=sample_split)\n",
    "clf=RandomizedSearchCV(tree.DecisionTreeClassifier(class_weight='balanced'),parameters, scoring='roc_auc', refit=True, cv=3)\n",
    "\n",
    "clf.fit(sent_vectors_train, y_train)\n",
    "cv_error=clf.cv_results_['mean_test_score']\n",
    "train_error=clf.cv_results_['mean_train_score']\n",
    "pred=clf.predict(sent_vectors_train)\n",
    "score=roc_auc_score(y_train, pred)\n",
    "split=clf.best_params_['min_samples_split']\n",
    "depth=clf.best_params_['max_depth']\n",
    "\n",
    "plt.plot(cv_error, label='CV')\n",
    "plt.plot(train_error, label='train')\n",
    "plt.legend()\n",
    "plt.show()"
   ]
  },
  {
   "cell_type": "code",
   "execution_count": null,
   "metadata": {},
   "outputs": [],
   "source": [
    "print('Best value of max_depth: ', depth)\n",
    "print('Best value of min_samples_split: ', split)\n",
    "dt_w2v=tree.DecisionTreeClassifier(max_depth=depth, min_samples_split=split, class_weight='balanced')\n",
    "dt_w2v.fit(sent_vectors_train, y_train)\n",
    "\n",
    "w=dt_w2v.feature_importances_\n",
    "pred1=dt_w2v.predict(sent_vectors_test)\n",
    "pred2=dt_w2v.predict(sent_vectors_train)\n",
    "score1=roc_auc_score(y_test, pred1)\n",
    "score2=roc_auc_score(y_train, pred2)\n",
    "cm = confusion_matrix(y_test, pred1.round())\n",
    "\n",
    "\n",
    "print('ROC SCORE ON BEST HYPER-PARAMETERS: ', score)\n",
    "fpr1, tpr1, threshold = roc_curve(y_test, pred1)\n",
    "fpr2, tpr2, threshold = roc_curve(y_train, pred2)\n",
    "roc_auc1 = auc(fpr1, tpr1)\n",
    "roc_auc2 = auc(fpr2, tpr2)\n",
    "import matplotlib.pyplot as plt\n",
    "plt.title('Receiver Operating Characteristic')\n",
    "plt.plot(fpr1, tpr1, 'b', label='TEST-AUC = %0.2f' % score1)\n",
    "plt.plot(fpr2, tpr2, 'g', label = 'TRAIN-AUC = %0.2f' % score2)\n",
    "plt.legend(loc = 'lower right')\n",
    "plt.plot([0, 1], [0, 1],'r--')\n",
    "plt.xlim([0, 1])\n",
    "plt.ylim([0, 1])\n",
    "plt.ylabel('True Positive Rate')\n",
    "plt.xlabel('False Positive Rate')\n",
    "plt.legend()\n",
    "plt.show()"
   ]
  },
  {
   "cell_type": "code",
   "execution_count": null,
   "metadata": {},
   "outputs": [],
   "source": [
    "sns.heatmap(cm, annot=True, fmt=\"d\")\n",
    "plt.show()\n"
   ]
  },
  {
   "cell_type": "code",
   "execution_count": null,
   "metadata": {},
   "outputs": [],
   "source": []
  },
  {
   "cell_type": "code",
   "execution_count": null,
   "metadata": {},
   "outputs": [],
   "source": []
  },
  {
   "cell_type": "markdown",
   "metadata": {},
   "source": [
    "### Run below cells at your own risk, Can take upto 5 days"
   ]
  },
  {
   "cell_type": "code",
   "execution_count": null,
   "metadata": {},
   "outputs": [],
   "source": []
  },
  {
   "cell_type": "code",
   "execution_count": null,
   "metadata": {},
   "outputs": [],
   "source": []
  },
  {
   "cell_type": "code",
   "execution_count": 49,
   "metadata": {},
   "outputs": [
    {
     "name": "stderr",
     "output_type": "stream",
     "text": [
      "  0%|                                                                         | 585/914285 [04:04<133:53:24,  1.90it/s]"
     ]
    },
    {
     "ename": "KeyboardInterrupt",
     "evalue": "",
     "output_type": "error",
     "traceback": [
      "\u001b[1;31m---------------------------------------------------------------------------\u001b[0m",
      "\u001b[1;31mKeyboardInterrupt\u001b[0m                         Traceback (most recent call last)",
      "\u001b[1;32m<ipython-input-49-63487310ddcb>\u001b[0m in \u001b[0;36m<module>\u001b[1;34m()\u001b[0m\n\u001b[0;32m     27\u001b[0m     \u001b[0msent_vec\u001b[0m \u001b[1;33m=\u001b[0m \u001b[0mnp\u001b[0m\u001b[1;33m.\u001b[0m\u001b[0mzeros\u001b[0m\u001b[1;33m(\u001b[0m\u001b[1;36m50\u001b[0m\u001b[1;33m)\u001b[0m \u001b[1;31m# as word vectors are of zero length\u001b[0m\u001b[1;33m\u001b[0m\u001b[0m\n\u001b[0;32m     28\u001b[0m     \u001b[0mweight_sum\u001b[0m \u001b[1;33m=\u001b[0m\u001b[1;36m0\u001b[0m\u001b[1;33m;\u001b[0m \u001b[1;31m# num of words with a valid vector in the sentence/review\u001b[0m\u001b[1;33m\u001b[0m\u001b[0m\n\u001b[1;32m---> 29\u001b[1;33m     \u001b[1;32mfor\u001b[0m \u001b[0mword\u001b[0m \u001b[1;32min\u001b[0m \u001b[0msent\u001b[0m\u001b[1;33m:\u001b[0m \u001b[1;31m# for each word in a review/sentence\u001b[0m\u001b[1;33m\u001b[0m\u001b[0m\n\u001b[0m\u001b[0;32m     30\u001b[0m         \u001b[1;32mif\u001b[0m \u001b[0mword\u001b[0m \u001b[1;32min\u001b[0m \u001b[0mw2v_words\u001b[0m \u001b[1;32mand\u001b[0m \u001b[0mword\u001b[0m \u001b[1;32min\u001b[0m \u001b[0mtfidf_features\u001b[0m\u001b[1;33m:\u001b[0m\u001b[1;33m\u001b[0m\u001b[0m\n\u001b[0;32m     31\u001b[0m             \u001b[0mvec\u001b[0m \u001b[1;33m=\u001b[0m \u001b[0mw2v_model\u001b[0m\u001b[1;33m.\u001b[0m\u001b[0mwv\u001b[0m\u001b[1;33m[\u001b[0m\u001b[0mword\u001b[0m\u001b[1;33m]\u001b[0m\u001b[1;33m\u001b[0m\u001b[0m\n",
      "\u001b[1;31mKeyboardInterrupt\u001b[0m: "
     ]
    }
   ],
   "source": [
    "list_sent=[]\n",
    "for sent in preprocessed_reviews:\n",
    "    list_sent.append(sent.split())\n",
    "# X=list_sent[:]\n",
    "# y=final['Score'][:]\n",
    "# X_train, X_test, y_train, y_test = train_test_split(X,y , test_size=0.30, random_state=42)\n",
    "\n",
    "X=preprocessed_reviews[:]\n",
    "y=df['target'][:]\n",
    "X_train, X_test, y_train, y_test = train_test_split(X,y , test_size=0.30, random_state=42)\n",
    "\n",
    "\n",
    "w2v_model=gensim.models.Word2Vec(X_train,min_count=5, size=50)\n",
    "w2v_words = list(w2v_model.wv.vocab)\n",
    "# model = TfidfVectorizer()\n",
    "# tf_idf_matrix = model.fit_transform(X_train)\n",
    "# we are converting a dictionary with word as a key, and the idf as a value\n",
    "dictionary = dict(zip(tfidf.get_feature_names(), list(tfidf.idf_)))\n",
    "# TF-IDF weighted Word2Vec\n",
    "# tfidf_features = model.get_feature_names() # tfidf words/col-names\n",
    "# final_tf_idf is the sparse matrix with row= sentence, col=word and cell_val = tfidf\n",
    "\n",
    "tfidf_sent_vectors_train = []; # the tfidf-w2v for each sentence/review is stored in this list\n",
    "row=0;\n",
    "for sent in tqdm(X_train):\n",
    "    # for each review/sentence \n",
    "    sent_vec = np.zeros(50) # as word vectors are of zero length\n",
    "    weight_sum =0; # num of words with a valid vector in the sentence/review\n",
    "    for word in sent: # for each word in a review/sentence\n",
    "        if word in w2v_words and word in tfidf_features:\n",
    "            vec = w2v_model.wv[word]\n",
    "#             tf_idf = tf_idf_matrix[row, tfidf_feat.index(word)]\n",
    "            # to reduce the computation we are \n",
    "            # dictionary[word] = idf value of word in whole courpus\n",
    "            # sent.count(word) = tf valeus of word in this review\n",
    "            tf_idf = dictionary[word]*(sent.count(word)/len(sent))\n",
    "            sent_vec += (vec * tf_idf)\n",
    "            weight_sum += tf_idf\n",
    "    if weight_sum != 0:\n",
    "        sent_vec /= weight_sum\n",
    "    tfidf_sent_vectors_train.append(sent_vec)\n",
    "    row+=1\n",
    "\n",
    "    \n",
    "dictionary = dict(zip(tfidf.get_feature_names(), list(tfidf.idf_)))\n",
    "\n",
    "\n",
    "tfidf_sent_vectors_test = []; \n",
    "\n",
    "row=0;\n",
    "for sent in tqdm(X_test): \n",
    "    sent_vec = np.zeros(50) \n",
    "    weight_sum =0; \n",
    "    for word in sent: \n",
    "        if word in w2v_words and word in tfidf_features:\n",
    "            vec = w2v_model.wv[word]\n",
    "            tf_idf = dictionary[word]*(sent.count(word)/len(sent))\n",
    "            sent_vec += (vec * tf_idf)\n",
    "            weight_sum += tf_idf\n",
    "    if weight_sum != 0:\n",
    "        sent_vec /= weight_sum\n",
    "    tfidf_sent_vectors_test.append(sent_vec)\n",
    "    row += 1"
   ]
  },
  {
   "cell_type": "markdown",
   "metadata": {},
   "source": [
    "### Logistic Regression"
   ]
  },
  {
   "cell_type": "code",
   "execution_count": null,
   "metadata": {},
   "outputs": [],
   "source": [
    "parametersx=[{'C': [10**-4, 10**-2,0.75, 0.81, 1, 5, 10, 20, 50, 10**2, 10**4]}]\n",
    "clf = GridSearchCV(LogisticRegression(penalty='l1', class_weight='balanced'), parametersx, cv=4, scoring='roc_auc')\n",
    "\n",
    "clf.fit(tfidf_sent_vectors_train, y_train)\n",
    "cv_error=clf.cv_results_['mean_test_score']\n",
    "train_error=clf.cv_results_['mean_train_score']\n",
    "pred=clf.predict(tfidf_sent_vectors_train)\n",
    "score=roc_auc_score(y_train, pred)\n",
    "c_value=clf.best_params_['C']\n",
    "# depth=clf.best_params_['max_depth']\n",
    "print(\"best estimator: \", clf.best_estimator_)\n",
    "print(\"Train Score: \", clf.score(tfidf_sent_vectors_train, y_train))\n",
    "print(\"Test Score: \", clf.score(tfidf_sent_vectors_test, y_test))\n",
    "\n",
    "plt.plot(cv_error, label='CV')\n",
    "plt.plot(train_error, label='train')\n",
    "plt.legend()\n",
    "plt.show()"
   ]
  },
  {
   "cell_type": "code",
   "execution_count": null,
   "metadata": {},
   "outputs": [],
   "source": [
    "lr_tfidf_w2v = LogisticRegression(C=c_value, penalty='l1', class_weight='balanced')\n",
    "lr_tfidf_w2v.fit(tfidf_sent_vectors_train, y_train)\n",
    "pred1=lr_tfidf_w2v.predict(tfidf_sent_vectors_test)\n",
    "pred2=lr_tfidf_w2v.predict(tfidf_sent_vectors_train)\n",
    "\n",
    "\n",
    "print('The best score for AUC is equal to: ', roc_auc_score(y_test, pred1))\n",
    "print('The best score for AUC is equal to: ', roc_auc_score(y_train, pred2))\n",
    "\n",
    "score1=roc_auc_score(y_test, pred1)\n",
    "score2=roc_auc_score(y_train, pred2)\n",
    "cm = confusion_matrix(y_test, pred1.round())\n",
    "\n",
    "\n",
    "print('ROC SCORE ON BEST HYPER-PARAMETERS: ', score)\n",
    "fpr1, tpr1, threshold = roc_curve(y_test, pred1)\n",
    "fpr2, tpr2, threshold = roc_curve(y_train, pred2)\n",
    "roc_auc1 = auc(fpr1, tpr1)\n",
    "roc_auc2 = auc(fpr2, tpr2)\n",
    "import matplotlib.pyplot as plt\n",
    "plt.title('Receiver Operating Characteristic')\n",
    "plt.plot(fpr1, tpr1, 'b', label='TEST-AUC = %0.2f' % score1)\n",
    "plt.plot(fpr2, tpr2, 'g', label = 'TRAIN-AUC = %0.2f' % score2)\n",
    "plt.legend(loc = 'lower right')\n",
    "plt.plot([0, 1], [0, 1],'r--')\n",
    "plt.xlim([0, 1])\n",
    "plt.ylim([0, 1])\n",
    "plt.ylabel('True Positive Rate')\n",
    "plt.xlabel('False Positive Rate')\n",
    "plt.legend()\n",
    "plt.show()\n"
   ]
  },
  {
   "cell_type": "code",
   "execution_count": null,
   "metadata": {},
   "outputs": [],
   "source": [
    "sns.heatmap(cm, annot=True, fmt=\"d\")\n",
    "plt.show()\n"
   ]
  },
  {
   "cell_type": "markdown",
   "metadata": {},
   "source": [
    "### Decision Trees"
   ]
  },
  {
   "cell_type": "code",
   "execution_count": null,
   "metadata": {},
   "outputs": [],
   "source": [
    "depth=[2,3,4,5,6,7,8,9]\n",
    "sample_split=[2,3,4,5,6,7,8,9]\n",
    "parameters=dict(max_depth=depth,min_samples_split=sample_split)\n",
    "clf=RandomizedSearchCV(tree.DecisionTreeClassifier(class_weight='balanced'),parameters, scoring='roc_auc', refit=True, cv=3)\n",
    "\n",
    "clf.fit(tfidf_sent_vectors_train, y_train)\n",
    "cv_error=clf.cv_results_['mean_test_score']\n",
    "train_error=clf.cv_results_['mean_train_score']\n",
    "pred=clf.predict(tfidf_sent_vectors_train)\n",
    "score=roc_auc_score(y_train, pred)\n",
    "split=clf.best_params_['min_samples_split']\n",
    "depth=clf.best_params_['max_depth']\n",
    "\n",
    "plt.plot(cv_error, label='CV')\n",
    "plt.plot(train_error, label='train')\n",
    "plt.legend()\n",
    "plt.show()"
   ]
  },
  {
   "cell_type": "code",
   "execution_count": null,
   "metadata": {},
   "outputs": [],
   "source": [
    "print('Best value of max_depth: ', depth)\n",
    "print('Best value of min_samples_split: ', split)\n",
    "dt_tfidf_w2v=tree.DecisionTreeClassifier(max_depth=depth, min_samples_split=split, class_weight='balanced')\n",
    "dt_tfidf_w2v.fit(tfidf_sent_vectors_train, y_train)\n",
    "\n",
    "w=dt_tfidf_w2v.feature_importances_\n",
    "pred1=dt_tfidf_w2v.predict(tfidf_sent_vectors_test)\n",
    "pred2=dt_tfidf_w2v.predict(tfidf_sent_vectors_train)\n",
    "score1=roc_auc_score(y_test, pred1)\n",
    "score2=roc_auc_score(y_train, pred2)\n",
    "cm = confusion_matrix(y_test, pred1.round())\n",
    "\n",
    "\n",
    "print('ROC SCORE ON BEST HYPER-PARAMETERS: ', score)\n",
    "fpr1, tpr1, threshold = roc_curve(y_test, pred1)\n",
    "fpr2, tpr2, threshold = roc_curve(y_train, pred2)\n",
    "roc_auc1 = auc(fpr1, tpr1)\n",
    "roc_auc2 = auc(fpr2, tpr2)\n",
    "import matplotlib.pyplot as plt\n",
    "plt.title('Receiver Operating Characteristic')\n",
    "plt.plot(fpr1, tpr1, 'b', label='TEST-AUC = %0.2f' % score1)\n",
    "plt.plot(fpr2, tpr2, 'g', label = 'TRAIN-AUC = %0.2f' % score2)\n",
    "plt.legend(loc = 'lower right')\n",
    "plt.plot([0, 1], [0, 1],'r--')\n",
    "plt.xlim([0, 1])\n",
    "plt.ylim([0, 1])\n",
    "plt.ylabel('True Positive Rate')\n",
    "plt.xlabel('False Positive Rate')\n",
    "plt.legend()\n",
    "plt.show()"
   ]
  },
  {
   "cell_type": "code",
   "execution_count": null,
   "metadata": {},
   "outputs": [],
   "source": [
    "sns.heatmap(cm, annot=True, fmt=\"d\")\n",
    "plt.show()\n"
   ]
  },
  {
   "cell_type": "code",
   "execution_count": null,
   "metadata": {},
   "outputs": [],
   "source": []
  }
 ],
 "metadata": {
  "kernelspec": {
   "display_name": "Python 3",
   "language": "python",
   "name": "python3"
  },
  "language_info": {
   "codemirror_mode": {
    "name": "ipython",
    "version": 3
   },
   "file_extension": ".py",
   "mimetype": "text/x-python",
   "name": "python",
   "nbconvert_exporter": "python",
   "pygments_lexer": "ipython3",
   "version": "3.6.5"
  }
 },
 "nbformat": 4,
 "nbformat_minor": 2
}
